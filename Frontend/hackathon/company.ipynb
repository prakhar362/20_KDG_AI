{
 "cells": [
  {
   "cell_type": "code",
   "execution_count": null,
   "id": "988612f5-86bb-40ac-a44b-b524922ee657",
   "metadata": {},
   "outputs": [],
   "source": [
    "import pandas as pd\n",
    "import csv\n",
    "\n",
    "# Function to get input from the user\n",
    "def get_user_input():\n",
    "    emp_id = input(\"Enter Employee ID: \")\n",
    "    first_name = input(\"Enter First Name: \")\n",
    "    last_name = input(\"Enter Last Name: \")\n",
    "    ad_email = input(\"Enter Active Directory Email: \")\n",
    "    job_title = input(\"Enter Job Title: \")\n",
    "    gender_code = input(\"Enter Gender Code: \")\n",
    "    current_employee_rating = None\n",
    "    experience = None\n",
    "    \n",
    "    # Input validation for numeric values\n",
    "    while current_employee_rating is None:\n",
    "        try:\n",
    "            current_employee_rating = float(input(\"Enter Current Employee Rating: \"))\n",
    "        except ValueError:\n",
    "            print(\"Please enter a valid numeric value.\")\n",
    "    \n",
    "    while experience is None:\n",
    "        try:\n",
    "            experience = float(input(\"Enter Experience (in years): \"))\n",
    "        except ValueError:\n",
    "            print(\"Please enter a valid numeric value.\")\n",
    "    \n",
    "    return [emp_id, first_name, last_name, ad_email, job_title, gender_code, current_employee_rating, experience]\n",
    "\n",
    "# Load job data from CSV file into DataFrame\n",
    "csv_file = 'employee_data.csv'\n",
    "try:\n",
    "    data_frame = pd.read_csv(csv_file)\n",
    "except FileNotFoundError:\n",
    "    # If the file doesn't exist, create an empty DataFrame\n",
    "    data_frame = pd.DataFrame()\n",
    "\n",
    "# Check if the DataFrame is empty (no header row) and write header if needed\n",
    "if data_frame.empty:\n",
    "    header = ['emp_id', 'first_name', 'last_name', 'ad_email', 'job_title', 'gender_code', 'current_employee_rating', 'experience']\n",
    "    data_frame.to_csv(csv_file, header=header, index=False)\n",
    "\n",
    "# Get new data from user\n",
    "new_data = [get_user_input()]\n",
    "\n",
    "# Open the CSV file in append mode\n",
    "with open(csv_file, mode='a', newline='') as file:\n",
    "    writer = csv.writer(file)\n",
    "    # Write each row of new data to the CSV file\n",
    "    for row in new_data:\n",
    "        writer.writerow(row)\n",
    "\n",
    "print(\"New data added successfully.\")\n"
   ]
  },
  {
   "cell_type": "code",
   "execution_count": null,
   "id": "10b23997-7c88-4e48-9348-866e58a1c07d",
   "metadata": {},
   "outputs": [],
   "source": []
  }
 ],
 "metadata": {
  "kernelspec": {
   "display_name": "Python 3 (ipykernel)",
   "language": "python",
   "name": "python3"
  },
  "language_info": {
   "codemirror_mode": {
    "name": "ipython",
    "version": 3
   },
   "file_extension": ".py",
   "mimetype": "text/x-python",
   "name": "python",
   "nbconvert_exporter": "python",
   "pygments_lexer": "ipython3",
   "version": "3.11.7"
  }
 },
 "nbformat": 4,
 "nbformat_minor": 5
}
